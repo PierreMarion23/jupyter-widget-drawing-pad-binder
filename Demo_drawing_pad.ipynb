{
 "cells": [
  {
   "cell_type": "markdown",
   "metadata": {},
   "source": [
    "# Demo for jupyter-drawing-pad widget"
   ]
  },
  {
   "cell_type": "code",
   "execution_count": 1,
   "metadata": {
    "collapsed": true
   },
   "outputs": [],
   "source": [
    "import jupyter_drawing_pad as jd\n",
    "import matplotlib.pyplot as plt"
   ]
  },
  {
   "cell_type": "markdown",
   "metadata": {},
   "source": [
    "The widget is a box containing a drawing pad (main widget) and buttons (related to functionalities described below). Here is the drawing pad. You can draw whatever you want and data will be synchronised with the Python."
   ]
  },
  {
   "cell_type": "code",
   "execution_count": 2,
   "metadata": {},
   "outputs": [
    {
     "data": {
      "application/vnd.jupyter.widget-view+json": {
       "model_id": "72ae894bce5a422c9d5cc827fe583bb6",
       "version_major": 2,
       "version_minor": 0
      },
      "text/html": [
       "<p>Failed to display Jupyter Widget of type <code>DrawingPad</code>.</p>\n",
       "<p>\n",
       "  If you're reading this message in the Jupyter Notebook or JupyterLab Notebook, it may mean\n",
       "  that the widgets JavaScript is still loading. If this message persists, it\n",
       "  likely means that the widgets JavaScript library is either not installed or\n",
       "  not enabled. See the <a href=\"https://ipywidgets.readthedocs.io/en/stable/user_install.html\">Jupyter\n",
       "  Widgets Documentation</a> for setup instructions.\n",
       "</p>\n",
       "<p>\n",
       "  If you're reading this message in another frontend (for example, a static\n",
       "  rendering on GitHub or <a href=\"https://nbviewer.jupyter.org/\">NBViewer</a>),\n",
       "  it may mean that your frontend doesn't currently support widgets.\n",
       "</p>\n"
      ],
      "text/plain": [
       "DrawingPad(data=[[], [], []])"
      ]
     },
     "metadata": {},
     "output_type": "display_data"
    }
   ],
   "source": [
    "widget = jd.CustomBox()\n",
    "widget.drawing_pad"
   ]
  },
  {
   "cell_type": "code",
   "execution_count": 4,
   "metadata": {},
   "outputs": [
    {
     "name": "stdout",
     "output_type": "stream",
     "text": [
      "[[412.5, 411.5, 410.5, 409.5, 408.5, 407.5, 406.5, 403.5, 400.5, 397.5, 395.5, 391.5, 388.5, 383.5, 378.5, 369.5, 361.5, 352.5, 339.5, 324.5, 309.5, 294.5, 280.5, 265.5, 248.5, 231.5, 218.5, 206.5, 201.5, 195.5, 188.5, 183.5, 179.5, 174.5, 169.5, 166.5, 164.5, 162.5, 161.5], [218.11666870117188, 217.11666870117188, 216.11666870117188, 214.11666870117188, 212.11666870117188, 210.11666870117188, 209.11666870117188, 206.11666870117188, 204.11666870117188, 200.11666870117188, 198.11666870117188, 193.11666870117188, 190.11666870117188, 186.11666870117188, 182.11666870117188, 173.11666870117188, 171.11666870117188, 165.11666870117188, 157.11666870117188, 149.11666870117188, 139.11666870117188, 130.11666870117188, 121.11666870117188, 112.11666870117188, 102.11666870117188, 94.11666870117188, 88.11666870117188, 82.11666870117188, 80.11666870117188, 79.11666870117188, 74.11666870117188, 72.11666870117188, 70.11666870117188, 69.11666870117188, 67.11666870117188, 65.11666870117188, 65.11666870117188, 64.11666870117188, 64.11666870117188], [11332.672047999999, 11340.876995, 11349.02535, 11357.109339, 11364.899101, 11373.012161, 11381.038763999999, 11389.071494, 11396.885083000001, 11405.066071000001, 11413.081536, 11421.266639000001, 11428.977829000001, 11437.435917, 11445.006009, 11453.309161, 11461.135549, 11468.973932, 11477.134397, 11484.893876999999, 11493.004149, 11500.962499, 11508.659055, 11516.999201999999, 11525.41176, 11532.845538, 11541.120529, 11549.064547, 11557.088381, 11565.064882, 11573.112005, 11581.072048, 11589.046786, 11596.975959, 11605.076433, 11613.075952000001, 11621.087994, 11629.028225, 11645.110907]]\n"
     ]
    }
   ],
   "source": [
    "print(widget.drawing_pad.data)"
   ]
  },
  {
   "cell_type": "markdown",
   "metadata": {},
   "source": [
    "Synchronisation works both ways !"
   ]
  },
  {
   "cell_type": "code",
   "execution_count": 5,
   "metadata": {
    "collapsed": true
   },
   "outputs": [],
   "source": [
    "widget.drawing_pad.data = [ [100,200,300], [100,20,30], [1,2,3]]"
   ]
  },
  {
   "cell_type": "markdown",
   "metadata": {},
   "source": [
    "You can display the entiere widget. There are four additionnal elements:\n",
    "+ a text-field : to enter a name related to a signature (drawn in the drawing pad)\n",
    "+ a Clear button\n",
    "+ a Save button : to save a signature (related to the name written in the text field)\n",
    "+ a Login button : you can try to reproduce a signature previously registered. If this signature is close enough to one of the saved ones, a message  `Welcome (name)`  should appear"
   ]
  },
  {
   "cell_type": "code",
   "execution_count": 6,
   "metadata": {
    "scrolled": false
   },
   "outputs": [
    {
     "data": {
      "application/vnd.jupyter.widget-view+json": {
       "model_id": "ca1855e4f63d40f29905de4ceec480b0",
       "version_major": 2,
       "version_minor": 0
      },
      "text/html": [
       "<p>Failed to display Jupyter Widget of type <code>CustomBox</code>.</p>\n",
       "<p>\n",
       "  If you're reading this message in the Jupyter Notebook or JupyterLab Notebook, it may mean\n",
       "  that the widgets JavaScript is still loading. If this message persists, it\n",
       "  likely means that the widgets JavaScript library is either not installed or\n",
       "  not enabled. See the <a href=\"https://ipywidgets.readthedocs.io/en/stable/user_install.html\">Jupyter\n",
       "  Widgets Documentation</a> for setup instructions.\n",
       "</p>\n",
       "<p>\n",
       "  If you're reading this message in another frontend (for example, a static\n",
       "  rendering on GitHub or <a href=\"https://nbviewer.jupyter.org/\">NBViewer</a>),\n",
       "  it may mean that your frontend doesn't currently support widgets.\n",
       "</p>\n"
      ],
      "text/plain": [
       "CustomBox(children=(DrawingPad(data=[[100, 200, 300], [100, 20, 30], [1, 2, 3]]), VBox(children=(Text(value='', description='Name:', placeholder='Type your name'), Button(description='Clear', style=ButtonStyle(), tooltip='Click me'), Button(description='Save', style=ButtonStyle(), tooltip='Click me'), Button(description='Login', style=ButtonStyle(), tooltip='Click me')))))"
      ]
     },
     "metadata": {},
     "output_type": "display_data"
    }
   ],
   "source": [
    "widget"
   ]
  },
  {
   "cell_type": "markdown",
   "metadata": {},
   "source": [
    "Accessing registered signatures"
   ]
  },
  {
   "cell_type": "code",
   "execution_count": 7,
   "metadata": {},
   "outputs": [
    {
     "name": "stdout",
     "output_type": "stream",
     "text": [
      "{}\n"
     ]
    }
   ],
   "source": [
    "print(widget.get_saved())"
   ]
  },
  {
   "cell_type": "markdown",
   "metadata": {},
   "source": [
    "Reproducing the content of the drawing pad in a figure using matplotlib"
   ]
  },
  {
   "cell_type": "code",
   "execution_count": 9,
   "metadata": {},
   "outputs": [
    {
     "data": {
      "image/png": "[encoded data removed]",
      "text/plain": [
       "<matplotlib.figure.Figure at 0x7f020320b438>"
      ]
     },
     "metadata": {},
     "output_type": "display_data"
    }
   ],
   "source": [
    "plt.figure(figsize=(10,5))\n",
    "plt.plot(widget.drawing_pad.data[0], widget.drawing_pad.data[1])\n",
    "plt.xlim(0,500)\n",
    "plt.ylim(0,250)\n",
    "plt.show()"
   ]
  },
  {
   "cell_type": "code",
   "execution_count": null,
   "metadata": {
    "collapsed": true
   },
   "outputs": [],
   "source": []
  }
 ],
 "metadata": {
  "kernelspec": {
   "display_name": "Python 3",
   "language": "python",
   "name": "python3"
  },
  "language_info": {
   "codemirror_mode": {
    "name": "ipython",
    "version": 3
   },
   "file_extension": ".py",
   "mimetype": "text/x-python",
   "name": "python",
   "nbconvert_exporter": "python",
   "pygments_lexer": "ipython3",
   "version": "3.6.3"
  }
 },
 "nbformat": 4,
 "nbformat_minor": 2
}
